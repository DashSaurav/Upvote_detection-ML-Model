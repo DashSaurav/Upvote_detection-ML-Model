{
 "cells": [
  {
   "cell_type": "code",
   "execution_count": 9,
   "metadata": {},
   "outputs": [],
   "source": [
    "import pandas as pd\n",
    "import numpy as np"
   ]
  },
  {
   "cell_type": "code",
   "execution_count": 19,
   "metadata": {},
   "outputs": [
    {
     "data": {
      "text/html": [
       "<div>\n",
       "<style scoped>\n",
       "    .dataframe tbody tr th:only-of-type {\n",
       "        vertical-align: middle;\n",
       "    }\n",
       "\n",
       "    .dataframe tbody tr th {\n",
       "        vertical-align: top;\n",
       "    }\n",
       "\n",
       "    .dataframe thead th {\n",
       "        text-align: right;\n",
       "    }\n",
       "</style>\n",
       "<table border=\"1\" class=\"dataframe\">\n",
       "  <thead>\n",
       "    <tr style=\"text-align: right;\">\n",
       "      <th></th>\n",
       "      <th>ID</th>\n",
       "      <th>Tag</th>\n",
       "      <th>Reputation</th>\n",
       "      <th>Answers</th>\n",
       "      <th>Username</th>\n",
       "      <th>Views</th>\n",
       "      <th>Upvotes</th>\n",
       "    </tr>\n",
       "  </thead>\n",
       "  <tbody>\n",
       "    <tr>\n",
       "      <th>0</th>\n",
       "      <td>52664</td>\n",
       "      <td>a</td>\n",
       "      <td>3942.0</td>\n",
       "      <td>2.0</td>\n",
       "      <td>155623</td>\n",
       "      <td>7855.0</td>\n",
       "      <td>42.0</td>\n",
       "    </tr>\n",
       "    <tr>\n",
       "      <th>1</th>\n",
       "      <td>327662</td>\n",
       "      <td>a</td>\n",
       "      <td>26046.0</td>\n",
       "      <td>12.0</td>\n",
       "      <td>21781</td>\n",
       "      <td>55801.0</td>\n",
       "      <td>1175.0</td>\n",
       "    </tr>\n",
       "    <tr>\n",
       "      <th>2</th>\n",
       "      <td>468453</td>\n",
       "      <td>c</td>\n",
       "      <td>1358.0</td>\n",
       "      <td>4.0</td>\n",
       "      <td>56177</td>\n",
       "      <td>8067.0</td>\n",
       "      <td>60.0</td>\n",
       "    </tr>\n",
       "    <tr>\n",
       "      <th>3</th>\n",
       "      <td>96996</td>\n",
       "      <td>a</td>\n",
       "      <td>264.0</td>\n",
       "      <td>3.0</td>\n",
       "      <td>168793</td>\n",
       "      <td>27064.0</td>\n",
       "      <td>9.0</td>\n",
       "    </tr>\n",
       "    <tr>\n",
       "      <th>4</th>\n",
       "      <td>131465</td>\n",
       "      <td>c</td>\n",
       "      <td>4271.0</td>\n",
       "      <td>4.0</td>\n",
       "      <td>112223</td>\n",
       "      <td>13986.0</td>\n",
       "      <td>83.0</td>\n",
       "    </tr>\n",
       "  </tbody>\n",
       "</table>\n",
       "</div>"
      ],
      "text/plain": [
       "       ID Tag  Reputation  Answers  Username    Views  Upvotes\n",
       "0   52664   a      3942.0      2.0    155623   7855.0     42.0\n",
       "1  327662   a     26046.0     12.0     21781  55801.0   1175.0\n",
       "2  468453   c      1358.0      4.0     56177   8067.0     60.0\n",
       "3   96996   a       264.0      3.0    168793  27064.0      9.0\n",
       "4  131465   c      4271.0      4.0    112223  13986.0     83.0"
      ]
     },
     "execution_count": 19,
     "metadata": {},
     "output_type": "execute_result"
    }
   ],
   "source": [
    "df = pd.read_csv(\"upvote_train.csv\")\n",
    "df.head(5)\n",
    "# linear regression model to implement,, lasso or ridge algorithm."
   ]
  },
  {
   "cell_type": "code",
   "execution_count": 20,
   "metadata": {},
   "outputs": [
    {
     "name": "stdout",
     "output_type": "stream",
     "text": [
      "<class 'pandas.core.frame.DataFrame'>\n",
      "RangeIndex: 330045 entries, 0 to 330044\n",
      "Data columns (total 7 columns):\n",
      " #   Column      Non-Null Count   Dtype  \n",
      "---  ------      --------------   -----  \n",
      " 0   ID          330045 non-null  int64  \n",
      " 1   Tag         330045 non-null  object \n",
      " 2   Reputation  330045 non-null  float64\n",
      " 3   Answers     330045 non-null  float64\n",
      " 4   Username    330045 non-null  int64  \n",
      " 5   Views       330045 non-null  float64\n",
      " 6   Upvotes     330045 non-null  float64\n",
      "dtypes: float64(4), int64(2), object(1)\n",
      "memory usage: 17.6+ MB\n"
     ]
    }
   ],
   "source": [
    "df.info()"
   ]
  },
  {
   "cell_type": "code",
   "execution_count": 21,
   "metadata": {},
   "outputs": [],
   "source": [
    "from sklearn.preprocessing import LabelEncoder\n",
    "le = LabelEncoder()\n",
    "df.Tag = le.fit_transform(df.Tag.astype(str))"
   ]
  },
  {
   "cell_type": "code",
   "execution_count": 7,
   "metadata": {},
   "outputs": [
    {
     "data": {
      "text/plain": [
       "<matplotlib.axes._subplots.AxesSubplot at 0x1f0f9437b08>"
      ]
     },
     "execution_count": 7,
     "metadata": {},
     "output_type": "execute_result"
    },
    {
     "data": {
      "image/png": "[encoded data removed]",
      "text/plain": [
       "<Figure size 2160x720 with 1 Axes>"
      ]
     },
     "metadata": {
      "needs_background": "light"
     },
     "output_type": "display_data"
    }
   ],
   "source": [
    "df.boxplot(figsize = (30,10), return_type='axes')"
   ]
  },
  {
   "cell_type": "code",
   "execution_count": 22,
   "metadata": {},
   "outputs": [
    {
     "data": {
      "text/plain": [
       "ID            -0.000298\n",
       "Tag            0.337230\n",
       "Reputation    11.230027\n",
       "Answers        3.380169\n",
       "Username       0.142088\n",
       "Views         14.370704\n",
       "Upvotes       74.249689\n",
       "dtype: float64"
      ]
     },
     "execution_count": 22,
     "metadata": {},
     "output_type": "execute_result"
    }
   ],
   "source": [
    "df.skew()"
   ]
  },
  {
   "cell_type": "code",
   "execution_count": 23,
   "metadata": {},
   "outputs": [
    {
     "data": {
      "text/html": [
       "<div>\n",
       "<style scoped>\n",
       "    .dataframe tbody tr th:only-of-type {\n",
       "        vertical-align: middle;\n",
       "    }\n",
       "\n",
       "    .dataframe tbody tr th {\n",
       "        vertical-align: top;\n",
       "    }\n",
       "\n",
       "    .dataframe thead th {\n",
       "        text-align: right;\n",
       "    }\n",
       "</style>\n",
       "<table border=\"1\" class=\"dataframe\">\n",
       "  <thead>\n",
       "    <tr style=\"text-align: right;\">\n",
       "      <th></th>\n",
       "      <th>ID</th>\n",
       "      <th>Tag</th>\n",
       "      <th>Reputation</th>\n",
       "      <th>Answers</th>\n",
       "      <th>Username</th>\n",
       "      <th>Views</th>\n",
       "      <th>Upvotes</th>\n",
       "    </tr>\n",
       "  </thead>\n",
       "  <tbody>\n",
       "    <tr>\n",
       "      <th>count</th>\n",
       "      <td>330045.000000</td>\n",
       "      <td>330045.00000</td>\n",
       "      <td>3.300450e+05</td>\n",
       "      <td>330045.000000</td>\n",
       "      <td>330045.000000</td>\n",
       "      <td>3.300450e+05</td>\n",
       "      <td>330045.000000</td>\n",
       "    </tr>\n",
       "    <tr>\n",
       "      <th>mean</th>\n",
       "      <td>235748.682789</td>\n",
       "      <td>3.54305</td>\n",
       "      <td>7.773147e+03</td>\n",
       "      <td>3.917672</td>\n",
       "      <td>81442.888803</td>\n",
       "      <td>2.964507e+04</td>\n",
       "      <td>337.505358</td>\n",
       "    </tr>\n",
       "    <tr>\n",
       "      <th>std</th>\n",
       "      <td>136039.418471</td>\n",
       "      <td>2.49392</td>\n",
       "      <td>2.706141e+04</td>\n",
       "      <td>3.579515</td>\n",
       "      <td>49215.100730</td>\n",
       "      <td>8.095646e+04</td>\n",
       "      <td>3592.441135</td>\n",
       "    </tr>\n",
       "    <tr>\n",
       "      <th>min</th>\n",
       "      <td>1.000000</td>\n",
       "      <td>0.00000</td>\n",
       "      <td>0.000000e+00</td>\n",
       "      <td>0.000000</td>\n",
       "      <td>0.000000</td>\n",
       "      <td>9.000000e+00</td>\n",
       "      <td>0.000000</td>\n",
       "    </tr>\n",
       "    <tr>\n",
       "      <th>25%</th>\n",
       "      <td>117909.000000</td>\n",
       "      <td>1.00000</td>\n",
       "      <td>2.820000e+02</td>\n",
       "      <td>2.000000</td>\n",
       "      <td>39808.000000</td>\n",
       "      <td>2.594000e+03</td>\n",
       "      <td>8.000000</td>\n",
       "    </tr>\n",
       "    <tr>\n",
       "      <th>50%</th>\n",
       "      <td>235699.000000</td>\n",
       "      <td>4.00000</td>\n",
       "      <td>1.236000e+03</td>\n",
       "      <td>3.000000</td>\n",
       "      <td>79010.000000</td>\n",
       "      <td>8.954000e+03</td>\n",
       "      <td>28.000000</td>\n",
       "    </tr>\n",
       "    <tr>\n",
       "      <th>75%</th>\n",
       "      <td>353620.000000</td>\n",
       "      <td>6.00000</td>\n",
       "      <td>5.118000e+03</td>\n",
       "      <td>5.000000</td>\n",
       "      <td>122559.000000</td>\n",
       "      <td>2.687000e+04</td>\n",
       "      <td>107.000000</td>\n",
       "    </tr>\n",
       "    <tr>\n",
       "      <th>max</th>\n",
       "      <td>471493.000000</td>\n",
       "      <td>9.00000</td>\n",
       "      <td>1.042428e+06</td>\n",
       "      <td>76.000000</td>\n",
       "      <td>175738.000000</td>\n",
       "      <td>5.231058e+06</td>\n",
       "      <td>615278.000000</td>\n",
       "    </tr>\n",
       "  </tbody>\n",
       "</table>\n",
       "</div>"
      ],
      "text/plain": [
       "                  ID           Tag    Reputation        Answers  \\\n",
       "count  330045.000000  330045.00000  3.300450e+05  330045.000000   \n",
       "mean   235748.682789       3.54305  7.773147e+03       3.917672   \n",
       "std    136039.418471       2.49392  2.706141e+04       3.579515   \n",
       "min         1.000000       0.00000  0.000000e+00       0.000000   \n",
       "25%    117909.000000       1.00000  2.820000e+02       2.000000   \n",
       "50%    235699.000000       4.00000  1.236000e+03       3.000000   \n",
       "75%    353620.000000       6.00000  5.118000e+03       5.000000   \n",
       "max    471493.000000       9.00000  1.042428e+06      76.000000   \n",
       "\n",
       "            Username         Views        Upvotes  \n",
       "count  330045.000000  3.300450e+05  330045.000000  \n",
       "mean    81442.888803  2.964507e+04     337.505358  \n",
       "std     49215.100730  8.095646e+04    3592.441135  \n",
       "min         0.000000  9.000000e+00       0.000000  \n",
       "25%     39808.000000  2.594000e+03       8.000000  \n",
       "50%     79010.000000  8.954000e+03      28.000000  \n",
       "75%    122559.000000  2.687000e+04     107.000000  \n",
       "max    175738.000000  5.231058e+06  615278.000000  "
      ]
     },
     "execution_count": 23,
     "metadata": {},
     "output_type": "execute_result"
    }
   ],
   "source": [
    "df.describe()"
   ]
  },
  {
   "cell_type": "code",
   "execution_count": 24,
   "metadata": {},
   "outputs": [
    {
     "name": "stdout",
     "output_type": "stream",
     "text": [
      "-32818.97208198559 48365.26567831336\n"
     ]
    }
   ],
   "source": [
    "upper_Reputation = df['Reputation'].mean() + 1.5*df['Reputation'].std()\n",
    "lower_Reputation = df['Reputation'].mean() - 1.5*df['Reputation'].std()\n",
    "print(lower_Reputation,upper_Reputation)"
   ]
  },
  {
   "cell_type": "code",
   "execution_count": 25,
   "metadata": {},
   "outputs": [],
   "source": [
    "df.loc[df['Reputation']> 5118.0,'Reputation'] = 5119.0"
   ]
  },
  {
   "cell_type": "code",
   "execution_count": 27,
   "metadata": {},
   "outputs": [
    {
     "name": "stdout",
     "output_type": "stream",
     "text": [
      "-91789.61337571194 151079.7560592854\n"
     ]
    }
   ],
   "source": [
    "upper = df['Views'].mean() + 1.5*df['Views'].std()\n",
    "lower = df['Views'].mean() - 1.5*df['Views'].std()\n",
    "print(lower,upper)"
   ]
  },
  {
   "cell_type": "code",
   "execution_count": 28,
   "metadata": {},
   "outputs": [],
   "source": [
    "df.loc[df['Views']> 26870.0,'Views'] = 26870.0\n",
    "# 2.687000e+04\t"
   ]
  },
  {
   "cell_type": "code",
   "execution_count": 30,
   "metadata": {},
   "outputs": [
    {
     "name": "stdout",
     "output_type": "stream",
     "text": [
      "-1.4516000900495896 9.286943755307357\n"
     ]
    }
   ],
   "source": [
    "upper = df['Answers'].mean() + 1.5*df['Answers'].std()\n",
    "lower = df['Answers'].mean() - 1.5*df['Answers'].std()\n",
    "print(lower,upper)"
   ]
  },
  {
   "cell_type": "code",
   "execution_count": 31,
   "metadata": {},
   "outputs": [],
   "source": [
    "df.loc[df['Answers']> 5.0,'Answers'] = 5.0"
   ]
  },
  {
   "cell_type": "code",
   "execution_count": 33,
   "metadata": {},
   "outputs": [
    {
     "name": "stdout",
     "output_type": "stream",
     "text": [
      "-5051.156344378477 5726.167061098925\n"
     ]
    }
   ],
   "source": [
    "upper = df['Upvotes'].mean() + 1.5*df['Upvotes'].std()\n",
    "lower = df['Upvotes'].mean() - 1.5*df['Upvotes'].std()\n",
    "print(lower,upper)"
   ]
  },
  {
   "cell_type": "code",
   "execution_count": 34,
   "metadata": {},
   "outputs": [],
   "source": [
    "df.loc[df['Upvotes']> 107.0,'Upvotes'] = 107.0"
   ]
  },
  {
   "cell_type": "code",
   "execution_count": 35,
   "metadata": {},
   "outputs": [
    {
     "data": {
      "text/plain": [
       "ID           -0.000298\n",
       "Tag           0.337230\n",
       "Reputation    0.498064\n",
       "Answers      -0.001231\n",
       "Username      0.142088\n",
       "Views         0.357091\n",
       "Upvotes       0.500881\n",
       "dtype: float64"
      ]
     },
     "execution_count": 35,
     "metadata": {},
     "output_type": "execute_result"
    }
   ],
   "source": [
    "df.skew()"
   ]
  },
  {
   "cell_type": "code",
   "execution_count": 36,
   "metadata": {},
   "outputs": [
    {
     "data": {
      "text/html": [
       "<div>\n",
       "<style scoped>\n",
       "    .dataframe tbody tr th:only-of-type {\n",
       "        vertical-align: middle;\n",
       "    }\n",
       "\n",
       "    .dataframe tbody tr th {\n",
       "        vertical-align: top;\n",
       "    }\n",
       "\n",
       "    .dataframe thead th {\n",
       "        text-align: right;\n",
       "    }\n",
       "</style>\n",
       "<table border=\"1\" class=\"dataframe\">\n",
       "  <thead>\n",
       "    <tr style=\"text-align: right;\">\n",
       "      <th></th>\n",
       "      <th>ID</th>\n",
       "      <th>Tag</th>\n",
       "      <th>Reputation</th>\n",
       "      <th>Answers</th>\n",
       "      <th>Username</th>\n",
       "      <th>Views</th>\n",
       "      <th>Upvotes</th>\n",
       "    </tr>\n",
       "  </thead>\n",
       "  <tbody>\n",
       "    <tr>\n",
       "      <th>ID</th>\n",
       "      <td>1.000000</td>\n",
       "      <td>-0.004725</td>\n",
       "      <td>0.009687</td>\n",
       "      <td>0.020596</td>\n",
       "      <td>0.000628</td>\n",
       "      <td>0.031060</td>\n",
       "      <td>0.026446</td>\n",
       "    </tr>\n",
       "    <tr>\n",
       "      <th>Tag</th>\n",
       "      <td>-0.004725</td>\n",
       "      <td>1.000000</td>\n",
       "      <td>-0.046042</td>\n",
       "      <td>-0.085096</td>\n",
       "      <td>0.012590</td>\n",
       "      <td>-0.064239</td>\n",
       "      <td>-0.080527</td>\n",
       "    </tr>\n",
       "    <tr>\n",
       "      <th>Reputation</th>\n",
       "      <td>0.009687</td>\n",
       "      <td>-0.046042</td>\n",
       "      <td>1.000000</td>\n",
       "      <td>0.166561</td>\n",
       "      <td>-0.105321</td>\n",
       "      <td>0.130895</td>\n",
       "      <td>0.623223</td>\n",
       "    </tr>\n",
       "    <tr>\n",
       "      <th>Answers</th>\n",
       "      <td>0.020596</td>\n",
       "      <td>-0.085096</td>\n",
       "      <td>0.166561</td>\n",
       "      <td>1.000000</td>\n",
       "      <td>-0.010254</td>\n",
       "      <td>0.516477</td>\n",
       "      <td>0.408982</td>\n",
       "    </tr>\n",
       "    <tr>\n",
       "      <th>Username</th>\n",
       "      <td>0.000628</td>\n",
       "      <td>0.012590</td>\n",
       "      <td>-0.105321</td>\n",
       "      <td>-0.010254</td>\n",
       "      <td>1.000000</td>\n",
       "      <td>0.004202</td>\n",
       "      <td>-0.061682</td>\n",
       "    </tr>\n",
       "    <tr>\n",
       "      <th>Views</th>\n",
       "      <td>0.031060</td>\n",
       "      <td>-0.064239</td>\n",
       "      <td>0.130895</td>\n",
       "      <td>0.516477</td>\n",
       "      <td>0.004202</td>\n",
       "      <td>1.000000</td>\n",
       "      <td>0.606137</td>\n",
       "    </tr>\n",
       "    <tr>\n",
       "      <th>Upvotes</th>\n",
       "      <td>0.026446</td>\n",
       "      <td>-0.080527</td>\n",
       "      <td>0.623223</td>\n",
       "      <td>0.408982</td>\n",
       "      <td>-0.061682</td>\n",
       "      <td>0.606137</td>\n",
       "      <td>1.000000</td>\n",
       "    </tr>\n",
       "  </tbody>\n",
       "</table>\n",
       "</div>"
      ],
      "text/plain": [
       "                  ID       Tag  Reputation   Answers  Username     Views  \\\n",
       "ID          1.000000 -0.004725    0.009687  0.020596  0.000628  0.031060   \n",
       "Tag        -0.004725  1.000000   -0.046042 -0.085096  0.012590 -0.064239   \n",
       "Reputation  0.009687 -0.046042    1.000000  0.166561 -0.105321  0.130895   \n",
       "Answers     0.020596 -0.085096    0.166561  1.000000 -0.010254  0.516477   \n",
       "Username    0.000628  0.012590   -0.105321 -0.010254  1.000000  0.004202   \n",
       "Views       0.031060 -0.064239    0.130895  0.516477  0.004202  1.000000   \n",
       "Upvotes     0.026446 -0.080527    0.623223  0.408982 -0.061682  0.606137   \n",
       "\n",
       "             Upvotes  \n",
       "ID          0.026446  \n",
       "Tag        -0.080527  \n",
       "Reputation  0.623223  \n",
       "Answers     0.408982  \n",
       "Username   -0.061682  \n",
       "Views       0.606137  \n",
       "Upvotes     1.000000  "
      ]
     },
     "execution_count": 36,
     "metadata": {},
     "output_type": "execute_result"
    }
   ],
   "source": [
    "df.corr()"
   ]
  },
  {
   "cell_type": "code",
   "execution_count": 37,
   "metadata": {},
   "outputs": [],
   "source": [
    "x = df.iloc[:,1:6]\n",
    "y = df.iloc[:,-1]"
   ]
  },
  {
   "cell_type": "code",
   "execution_count": 38,
   "metadata": {},
   "outputs": [
    {
     "data": {
      "text/plain": [
       "LinearRegression()"
      ]
     },
     "execution_count": 38,
     "metadata": {},
     "output_type": "execute_result"
    }
   ],
   "source": [
    "from sklearn import linear_model\n",
    "lm=linear_model.LinearRegression()\n",
    "lm.fit(x,y)"
   ]
  },
  {
   "cell_type": "code",
   "execution_count": 39,
   "metadata": {},
   "outputs": [],
   "source": [
    "y_pred = lm.predict(x)"
   ]
  },
  {
   "cell_type": "code",
   "execution_count": 40,
   "metadata": {},
   "outputs": [],
   "source": [
    "df['Predections'] = y_pred"
   ]
  },
  {
   "cell_type": "code",
   "execution_count": 41,
   "metadata": {},
   "outputs": [
    {
     "data": {
      "text/plain": [
       "578.3952613362331"
      ]
     },
     "execution_count": 41,
     "metadata": {},
     "output_type": "execute_result"
    }
   ],
   "source": [
    "from sklearn import metrics\n",
    "MSE_ln = metrics.mean_squared_error(y,y_pred)\n",
    "MSE_ln"
   ]
  },
  {
   "cell_type": "code",
   "execution_count": 42,
   "metadata": {},
   "outputs": [],
   "source": [
    "error = y - y_pred\n",
    "error_ln = np.abs(error)"
   ]
  },
  {
   "cell_type": "code",
   "execution_count": 43,
   "metadata": {},
   "outputs": [
    {
     "data": {
      "text/plain": [
       "58.213367942428775"
      ]
     },
     "execution_count": 43,
     "metadata": {},
     "output_type": "execute_result"
    }
   ],
   "source": [
    "MAPE_ln = np.mean(error_ln/y_pred)*100\n",
    "MAPE_ln"
   ]
  },
  {
   "cell_type": "code",
   "execution_count": 44,
   "metadata": {},
   "outputs": [
    {
     "data": {
      "text/plain": [
       "41.786632057571225"
      ]
     },
     "execution_count": 44,
     "metadata": {},
     "output_type": "execute_result"
    }
   ],
   "source": [
    "acc = 100 - MAPE_ln\n",
    "acc"
   ]
  },
  {
   "cell_type": "code",
   "execution_count": 45,
   "metadata": {},
   "outputs": [
    {
     "data": {
      "text/plain": [
       "0.6710673284824609"
      ]
     },
     "execution_count": 45,
     "metadata": {},
     "output_type": "execute_result"
    }
   ],
   "source": [
    "lm_r2 = lm.score(x,y)\n",
    "lm_r2"
   ]
  },
  {
   "cell_type": "code",
   "execution_count": 46,
   "metadata": {},
   "outputs": [
    {
     "data": {
      "text/plain": [
       "0.6710623452430329"
      ]
     },
     "execution_count": 46,
     "metadata": {},
     "output_type": "execute_result"
    }
   ],
   "source": [
    "adj_r2 = 1 - (1-lm.score(x, y))*(len(y)-1)/(len(y)-x.shape[1]-1)\n",
    "adj_r2"
   ]
  },
  {
   "cell_type": "code",
   "execution_count": 60,
   "metadata": {},
   "outputs": [
    {
     "data": {
      "text/html": [
       "<div>\n",
       "<style scoped>\n",
       "    .dataframe tbody tr th:only-of-type {\n",
       "        vertical-align: middle;\n",
       "    }\n",
       "\n",
       "    .dataframe tbody tr th {\n",
       "        vertical-align: top;\n",
       "    }\n",
       "\n",
       "    .dataframe thead th {\n",
       "        text-align: right;\n",
       "    }\n",
       "</style>\n",
       "<table border=\"1\" class=\"dataframe\">\n",
       "  <thead>\n",
       "    <tr style=\"text-align: right;\">\n",
       "      <th></th>\n",
       "      <th>ID</th>\n",
       "      <th>Tag</th>\n",
       "      <th>Reputation</th>\n",
       "      <th>Answers</th>\n",
       "      <th>Username</th>\n",
       "      <th>Views</th>\n",
       "      <th>Upvotes</th>\n",
       "      <th>Predections</th>\n",
       "    </tr>\n",
       "  </thead>\n",
       "  <tbody>\n",
       "    <tr>\n",
       "      <th>0</th>\n",
       "      <td>52664</td>\n",
       "      <td>0</td>\n",
       "      <td>3942.0</td>\n",
       "      <td>2.0</td>\n",
       "      <td>155623</td>\n",
       "      <td>7855.0</td>\n",
       "      <td>42.0</td>\n",
       "      <td>55.919648</td>\n",
       "    </tr>\n",
       "    <tr>\n",
       "      <th>1</th>\n",
       "      <td>327662</td>\n",
       "      <td>0</td>\n",
       "      <td>5119.0</td>\n",
       "      <td>5.0</td>\n",
       "      <td>21781</td>\n",
       "      <td>26870.0</td>\n",
       "      <td>107.0</td>\n",
       "      <td>113.070615</td>\n",
       "    </tr>\n",
       "    <tr>\n",
       "      <th>2</th>\n",
       "      <td>468453</td>\n",
       "      <td>1</td>\n",
       "      <td>1358.0</td>\n",
       "      <td>4.0</td>\n",
       "      <td>56177</td>\n",
       "      <td>8067.0</td>\n",
       "      <td>60.0</td>\n",
       "      <td>30.673491</td>\n",
       "    </tr>\n",
       "    <tr>\n",
       "      <th>3</th>\n",
       "      <td>96996</td>\n",
       "      <td>0</td>\n",
       "      <td>264.0</td>\n",
       "      <td>3.0</td>\n",
       "      <td>168793</td>\n",
       "      <td>26870.0</td>\n",
       "      <td>9.0</td>\n",
       "      <td>55.030881</td>\n",
       "    </tr>\n",
       "    <tr>\n",
       "      <th>4</th>\n",
       "      <td>131465</td>\n",
       "      <td>1</td>\n",
       "      <td>4271.0</td>\n",
       "      <td>4.0</td>\n",
       "      <td>112223</td>\n",
       "      <td>13986.0</td>\n",
       "      <td>83.0</td>\n",
       "      <td>75.059600</td>\n",
       "    </tr>\n",
       "    <tr>\n",
       "      <th>...</th>\n",
       "      <td>...</td>\n",
       "      <td>...</td>\n",
       "      <td>...</td>\n",
       "      <td>...</td>\n",
       "      <td>...</td>\n",
       "      <td>...</td>\n",
       "      <td>...</td>\n",
       "      <td>...</td>\n",
       "    </tr>\n",
       "    <tr>\n",
       "      <th>330040</th>\n",
       "      <td>339800</td>\n",
       "      <td>1</td>\n",
       "      <td>36.0</td>\n",
       "      <td>2.0</td>\n",
       "      <td>84919</td>\n",
       "      <td>1063.0</td>\n",
       "      <td>0.0</td>\n",
       "      <td>-1.588501</td>\n",
       "    </tr>\n",
       "    <tr>\n",
       "      <th>330041</th>\n",
       "      <td>253800</td>\n",
       "      <td>1</td>\n",
       "      <td>1649.0</td>\n",
       "      <td>2.0</td>\n",
       "      <td>76730</td>\n",
       "      <td>23319.0</td>\n",
       "      <td>73.0</td>\n",
       "      <td>61.870034</td>\n",
       "    </tr>\n",
       "    <tr>\n",
       "      <th>330042</th>\n",
       "      <td>210756</td>\n",
       "      <td>1</td>\n",
       "      <td>5119.0</td>\n",
       "      <td>2.0</td>\n",
       "      <td>91701</td>\n",
       "      <td>2453.0</td>\n",
       "      <td>15.0</td>\n",
       "      <td>58.058976</td>\n",
       "    </tr>\n",
       "    <tr>\n",
       "      <th>330043</th>\n",
       "      <td>56089</td>\n",
       "      <td>4</td>\n",
       "      <td>89.0</td>\n",
       "      <td>2.0</td>\n",
       "      <td>80245</td>\n",
       "      <td>2107.0</td>\n",
       "      <td>3.0</td>\n",
       "      <td>0.239850</td>\n",
       "    </tr>\n",
       "    <tr>\n",
       "      <th>330044</th>\n",
       "      <td>300553</td>\n",
       "      <td>4</td>\n",
       "      <td>2001.0</td>\n",
       "      <td>4.0</td>\n",
       "      <td>154692</td>\n",
       "      <td>2554.0</td>\n",
       "      <td>37.0</td>\n",
       "      <td>25.250735</td>\n",
       "    </tr>\n",
       "  </tbody>\n",
       "</table>\n",
       "<p>330045 rows × 8 columns</p>\n",
       "</div>"
      ],
      "text/plain": [
       "            ID  Tag  Reputation  Answers  Username    Views  Upvotes  \\\n",
       "0        52664    0      3942.0      2.0    155623   7855.0     42.0   \n",
       "1       327662    0      5119.0      5.0     21781  26870.0    107.0   \n",
       "2       468453    1      1358.0      4.0     56177   8067.0     60.0   \n",
       "3        96996    0       264.0      3.0    168793  26870.0      9.0   \n",
       "4       131465    1      4271.0      4.0    112223  13986.0     83.0   \n",
       "...        ...  ...         ...      ...       ...      ...      ...   \n",
       "330040  339800    1        36.0      2.0     84919   1063.0      0.0   \n",
       "330041  253800    1      1649.0      2.0     76730  23319.0     73.0   \n",
       "330042  210756    1      5119.0      2.0     91701   2453.0     15.0   \n",
       "330043   56089    4        89.0      2.0     80245   2107.0      3.0   \n",
       "330044  300553    4      2001.0      4.0    154692   2554.0     37.0   \n",
       "\n",
       "        Predections  \n",
       "0         55.919648  \n",
       "1        113.070615  \n",
       "2         30.673491  \n",
       "3         55.030881  \n",
       "4         75.059600  \n",
       "...             ...  \n",
       "330040    -1.588501  \n",
       "330041    61.870034  \n",
       "330042    58.058976  \n",
       "330043     0.239850  \n",
       "330044    25.250735  \n",
       "\n",
       "[330045 rows x 8 columns]"
      ]
     },
     "execution_count": 60,
     "metadata": {},
     "output_type": "execute_result"
    }
   ],
   "source": [
    "df"
   ]
  },
  {
   "cell_type": "code",
   "execution_count": 61,
   "metadata": {},
   "outputs": [
    {
     "data": {
      "text/html": [
       "<div>\n",
       "<style scoped>\n",
       "    .dataframe tbody tr th:only-of-type {\n",
       "        vertical-align: middle;\n",
       "    }\n",
       "\n",
       "    .dataframe tbody tr th {\n",
       "        vertical-align: top;\n",
       "    }\n",
       "\n",
       "    .dataframe thead th {\n",
       "        text-align: right;\n",
       "    }\n",
       "</style>\n",
       "<table border=\"1\" class=\"dataframe\">\n",
       "  <thead>\n",
       "    <tr style=\"text-align: right;\">\n",
       "      <th></th>\n",
       "      <th>ID</th>\n",
       "      <th>Tag</th>\n",
       "      <th>Reputation</th>\n",
       "      <th>Answers</th>\n",
       "      <th>Username</th>\n",
       "      <th>Views</th>\n",
       "    </tr>\n",
       "  </thead>\n",
       "  <tbody>\n",
       "    <tr>\n",
       "      <th>0</th>\n",
       "      <td>366953</td>\n",
       "      <td>a</td>\n",
       "      <td>5645.0</td>\n",
       "      <td>3.0</td>\n",
       "      <td>50652</td>\n",
       "      <td>33200.0</td>\n",
       "    </tr>\n",
       "    <tr>\n",
       "      <th>1</th>\n",
       "      <td>71864</td>\n",
       "      <td>c</td>\n",
       "      <td>24511.0</td>\n",
       "      <td>6.0</td>\n",
       "      <td>37685</td>\n",
       "      <td>2730.0</td>\n",
       "    </tr>\n",
       "    <tr>\n",
       "      <th>2</th>\n",
       "      <td>141692</td>\n",
       "      <td>i</td>\n",
       "      <td>927.0</td>\n",
       "      <td>1.0</td>\n",
       "      <td>135293</td>\n",
       "      <td>21167.0</td>\n",
       "    </tr>\n",
       "    <tr>\n",
       "      <th>3</th>\n",
       "      <td>316833</td>\n",
       "      <td>i</td>\n",
       "      <td>21.0</td>\n",
       "      <td>6.0</td>\n",
       "      <td>166998</td>\n",
       "      <td>18528.0</td>\n",
       "    </tr>\n",
       "    <tr>\n",
       "      <th>4</th>\n",
       "      <td>440445</td>\n",
       "      <td>i</td>\n",
       "      <td>4475.0</td>\n",
       "      <td>10.0</td>\n",
       "      <td>53504</td>\n",
       "      <td>57240.0</td>\n",
       "    </tr>\n",
       "    <tr>\n",
       "      <th>...</th>\n",
       "      <td>...</td>\n",
       "      <td>...</td>\n",
       "      <td>...</td>\n",
       "      <td>...</td>\n",
       "      <td>...</td>\n",
       "      <td>...</td>\n",
       "    </tr>\n",
       "    <tr>\n",
       "      <th>141443</th>\n",
       "      <td>47187</td>\n",
       "      <td>j</td>\n",
       "      <td>4681.0</td>\n",
       "      <td>4.0</td>\n",
       "      <td>152060</td>\n",
       "      <td>2469.0</td>\n",
       "    </tr>\n",
       "    <tr>\n",
       "      <th>141444</th>\n",
       "      <td>329126</td>\n",
       "      <td>j</td>\n",
       "      <td>7782.0</td>\n",
       "      <td>3.0</td>\n",
       "      <td>89235</td>\n",
       "      <td>18998.0</td>\n",
       "    </tr>\n",
       "    <tr>\n",
       "      <th>141445</th>\n",
       "      <td>282334</td>\n",
       "      <td>p</td>\n",
       "      <td>435.0</td>\n",
       "      <td>5.0</td>\n",
       "      <td>119788</td>\n",
       "      <td>57048.0</td>\n",
       "    </tr>\n",
       "    <tr>\n",
       "      <th>141446</th>\n",
       "      <td>386629</td>\n",
       "      <td>o</td>\n",
       "      <td>176.0</td>\n",
       "      <td>3.0</td>\n",
       "      <td>86824</td>\n",
       "      <td>10193.0</td>\n",
       "    </tr>\n",
       "    <tr>\n",
       "      <th>141447</th>\n",
       "      <td>107271</td>\n",
       "      <td>a</td>\n",
       "      <td>648.0</td>\n",
       "      <td>2.0</td>\n",
       "      <td>102240</td>\n",
       "      <td>12785.0</td>\n",
       "    </tr>\n",
       "  </tbody>\n",
       "</table>\n",
       "<p>141448 rows × 6 columns</p>\n",
       "</div>"
      ],
      "text/plain": [
       "            ID Tag  Reputation  Answers  Username    Views\n",
       "0       366953   a      5645.0      3.0     50652  33200.0\n",
       "1        71864   c     24511.0      6.0     37685   2730.0\n",
       "2       141692   i       927.0      1.0    135293  21167.0\n",
       "3       316833   i        21.0      6.0    166998  18528.0\n",
       "4       440445   i      4475.0     10.0     53504  57240.0\n",
       "...        ...  ..         ...      ...       ...      ...\n",
       "141443   47187   j      4681.0      4.0    152060   2469.0\n",
       "141444  329126   j      7782.0      3.0     89235  18998.0\n",
       "141445  282334   p       435.0      5.0    119788  57048.0\n",
       "141446  386629   o       176.0      3.0     86824  10193.0\n",
       "141447  107271   a       648.0      2.0    102240  12785.0\n",
       "\n",
       "[141448 rows x 6 columns]"
      ]
     },
     "execution_count": 61,
     "metadata": {},
     "output_type": "execute_result"
    }
   ],
   "source": [
    "df_main = pd.read_csv(\"upvote_test.csv\")\n",
    "df_main"
   ]
  },
  {
   "cell_type": "code",
   "execution_count": 62,
   "metadata": {},
   "outputs": [],
   "source": [
    "from sklearn.preprocessing import LabelEncoder\n",
    "le = LabelEncoder()\n",
    "df_main.Tag = le.fit_transform(df_main.Tag.astype(str))"
   ]
  },
  {
   "cell_type": "code",
   "execution_count": 64,
   "metadata": {},
   "outputs": [
    {
     "name": "stdout",
     "output_type": "stream",
     "text": [
      "-33945.15996140823 49787.01442382551\n"
     ]
    }
   ],
   "source": [
    "upper_Reputation = df_main['Reputation'].mean() + 1.5*df_main['Reputation'].std()\n",
    "lower_Reputation = df_main['Reputation'].mean() - 1.5*df_main['Reputation'].std()\n",
    "print(lower_Reputation,upper_Reputation)"
   ]
  },
  {
   "cell_type": "code",
   "execution_count": 65,
   "metadata": {},
   "outputs": [],
   "source": [
    "df_main.loc[df_main['Reputation']> 5118.0,'Reputation'] = 5119.0"
   ]
  },
  {
   "cell_type": "code",
   "execution_count": 66,
   "metadata": {},
   "outputs": [
    {
     "name": "stdout",
     "output_type": "stream",
     "text": [
      "-90669.27713743132 150361.94336106122\n"
     ]
    }
   ],
   "source": [
    "upper = df_main['Views'].mean() + 1.5*df_main['Views'].std()\n",
    "lower = df_main['Views'].mean() - 1.5*df_main['Views'].std()\n",
    "print(lower,upper)"
   ]
  },
  {
   "cell_type": "code",
   "execution_count": 67,
   "metadata": {},
   "outputs": [],
   "source": [
    "df_main.loc[df_main['Views']> 26870.0,'Views'] = 26870.0"
   ]
  },
  {
   "cell_type": "code",
   "execution_count": 68,
   "metadata": {},
   "outputs": [
    {
     "name": "stdout",
     "output_type": "stream",
     "text": [
      "-1.4513169236862304 9.281063544352483\n"
     ]
    }
   ],
   "source": [
    "upper = df_main['Answers'].mean() + 1.5*df_main['Answers'].std()\n",
    "lower = df_main['Answers'].mean() - 1.5*df_main['Answers'].std()\n",
    "print(lower,upper)"
   ]
  },
  {
   "cell_type": "code",
   "execution_count": 69,
   "metadata": {},
   "outputs": [],
   "source": [
    "df_main.loc[df_main['Answers']> 5.0,'Answers'] = 5.0"
   ]
  },
  {
   "cell_type": "code",
   "execution_count": 71,
   "metadata": {},
   "outputs": [
    {
     "data": {
      "text/html": [
       "<div>\n",
       "<style scoped>\n",
       "    .dataframe tbody tr th:only-of-type {\n",
       "        vertical-align: middle;\n",
       "    }\n",
       "\n",
       "    .dataframe tbody tr th {\n",
       "        vertical-align: top;\n",
       "    }\n",
       "\n",
       "    .dataframe thead th {\n",
       "        text-align: right;\n",
       "    }\n",
       "</style>\n",
       "<table border=\"1\" class=\"dataframe\">\n",
       "  <thead>\n",
       "    <tr style=\"text-align: right;\">\n",
       "      <th></th>\n",
       "      <th>Tag</th>\n",
       "      <th>Reputation</th>\n",
       "      <th>Answers</th>\n",
       "      <th>Username</th>\n",
       "      <th>Views</th>\n",
       "    </tr>\n",
       "  </thead>\n",
       "  <tbody>\n",
       "    <tr>\n",
       "      <th>0</th>\n",
       "      <td>0</td>\n",
       "      <td>5119.0</td>\n",
       "      <td>3.0</td>\n",
       "      <td>50652</td>\n",
       "      <td>26870.0</td>\n",
       "    </tr>\n",
       "    <tr>\n",
       "      <th>1</th>\n",
       "      <td>1</td>\n",
       "      <td>5119.0</td>\n",
       "      <td>5.0</td>\n",
       "      <td>37685</td>\n",
       "      <td>2730.0</td>\n",
       "    </tr>\n",
       "    <tr>\n",
       "      <th>2</th>\n",
       "      <td>3</td>\n",
       "      <td>927.0</td>\n",
       "      <td>1.0</td>\n",
       "      <td>135293</td>\n",
       "      <td>21167.0</td>\n",
       "    </tr>\n",
       "    <tr>\n",
       "      <th>3</th>\n",
       "      <td>3</td>\n",
       "      <td>21.0</td>\n",
       "      <td>5.0</td>\n",
       "      <td>166998</td>\n",
       "      <td>18528.0</td>\n",
       "    </tr>\n",
       "    <tr>\n",
       "      <th>4</th>\n",
       "      <td>3</td>\n",
       "      <td>4475.0</td>\n",
       "      <td>5.0</td>\n",
       "      <td>53504</td>\n",
       "      <td>26870.0</td>\n",
       "    </tr>\n",
       "    <tr>\n",
       "      <th>...</th>\n",
       "      <td>...</td>\n",
       "      <td>...</td>\n",
       "      <td>...</td>\n",
       "      <td>...</td>\n",
       "      <td>...</td>\n",
       "    </tr>\n",
       "    <tr>\n",
       "      <th>141443</th>\n",
       "      <td>4</td>\n",
       "      <td>4681.0</td>\n",
       "      <td>4.0</td>\n",
       "      <td>152060</td>\n",
       "      <td>2469.0</td>\n",
       "    </tr>\n",
       "    <tr>\n",
       "      <th>141444</th>\n",
       "      <td>4</td>\n",
       "      <td>5119.0</td>\n",
       "      <td>3.0</td>\n",
       "      <td>89235</td>\n",
       "      <td>18998.0</td>\n",
       "    </tr>\n",
       "    <tr>\n",
       "      <th>141445</th>\n",
       "      <td>6</td>\n",
       "      <td>435.0</td>\n",
       "      <td>5.0</td>\n",
       "      <td>119788</td>\n",
       "      <td>26870.0</td>\n",
       "    </tr>\n",
       "    <tr>\n",
       "      <th>141446</th>\n",
       "      <td>5</td>\n",
       "      <td>176.0</td>\n",
       "      <td>3.0</td>\n",
       "      <td>86824</td>\n",
       "      <td>10193.0</td>\n",
       "    </tr>\n",
       "    <tr>\n",
       "      <th>141447</th>\n",
       "      <td>0</td>\n",
       "      <td>648.0</td>\n",
       "      <td>2.0</td>\n",
       "      <td>102240</td>\n",
       "      <td>12785.0</td>\n",
       "    </tr>\n",
       "  </tbody>\n",
       "</table>\n",
       "<p>141448 rows × 5 columns</p>\n",
       "</div>"
      ],
      "text/plain": [
       "        Tag  Reputation  Answers  Username    Views\n",
       "0         0      5119.0      3.0     50652  26870.0\n",
       "1         1      5119.0      5.0     37685   2730.0\n",
       "2         3       927.0      1.0    135293  21167.0\n",
       "3         3        21.0      5.0    166998  18528.0\n",
       "4         3      4475.0      5.0     53504  26870.0\n",
       "...     ...         ...      ...       ...      ...\n",
       "141443    4      4681.0      4.0    152060   2469.0\n",
       "141444    4      5119.0      3.0     89235  18998.0\n",
       "141445    6       435.0      5.0    119788  26870.0\n",
       "141446    5       176.0      3.0     86824  10193.0\n",
       "141447    0       648.0      2.0    102240  12785.0\n",
       "\n",
       "[141448 rows x 5 columns]"
      ]
     },
     "execution_count": 71,
     "metadata": {},
     "output_type": "execute_result"
    }
   ],
   "source": [
    "x_ = df_main.iloc[:,1:6]\n",
    "x_"
   ]
  },
  {
   "cell_type": "code",
   "execution_count": 72,
   "metadata": {},
   "outputs": [
    {
     "data": {
      "text/plain": [
       "array([109.87407982,  63.46831365,  46.99459433, ...,  58.40348552,\n",
       "        18.8966151 ,  29.38238744])"
      ]
     },
     "execution_count": 72,
     "metadata": {},
     "output_type": "execute_result"
    }
   ],
   "source": [
    "y_ = lm.predict(x_)\n",
    "y_"
   ]
  },
  {
   "cell_type": "code",
   "execution_count": 73,
   "metadata": {},
   "outputs": [],
   "source": [
    "df_main['Upvotes'] = abs(y_)"
   ]
  },
  {
   "cell_type": "code",
   "execution_count": 74,
   "metadata": {},
   "outputs": [
    {
     "data": {
      "text/html": [
       "<div>\n",
       "<style scoped>\n",
       "    .dataframe tbody tr th:only-of-type {\n",
       "        vertical-align: middle;\n",
       "    }\n",
       "\n",
       "    .dataframe tbody tr th {\n",
       "        vertical-align: top;\n",
       "    }\n",
       "\n",
       "    .dataframe thead th {\n",
       "        text-align: right;\n",
       "    }\n",
       "</style>\n",
       "<table border=\"1\" class=\"dataframe\">\n",
       "  <thead>\n",
       "    <tr style=\"text-align: right;\">\n",
       "      <th></th>\n",
       "      <th>ID</th>\n",
       "      <th>Tag</th>\n",
       "      <th>Reputation</th>\n",
       "      <th>Answers</th>\n",
       "      <th>Username</th>\n",
       "      <th>Views</th>\n",
       "      <th>Upvotes</th>\n",
       "    </tr>\n",
       "  </thead>\n",
       "  <tbody>\n",
       "    <tr>\n",
       "      <th>0</th>\n",
       "      <td>366953</td>\n",
       "      <td>0</td>\n",
       "      <td>5119.0</td>\n",
       "      <td>3.0</td>\n",
       "      <td>50652</td>\n",
       "      <td>26870.0</td>\n",
       "      <td>109.874080</td>\n",
       "    </tr>\n",
       "    <tr>\n",
       "      <th>1</th>\n",
       "      <td>71864</td>\n",
       "      <td>1</td>\n",
       "      <td>5119.0</td>\n",
       "      <td>5.0</td>\n",
       "      <td>37685</td>\n",
       "      <td>2730.0</td>\n",
       "      <td>63.468314</td>\n",
       "    </tr>\n",
       "    <tr>\n",
       "      <th>2</th>\n",
       "      <td>141692</td>\n",
       "      <td>3</td>\n",
       "      <td>927.0</td>\n",
       "      <td>1.0</td>\n",
       "      <td>135293</td>\n",
       "      <td>21167.0</td>\n",
       "      <td>46.994594</td>\n",
       "    </tr>\n",
       "    <tr>\n",
       "      <th>3</th>\n",
       "      <td>316833</td>\n",
       "      <td>3</td>\n",
       "      <td>21.0</td>\n",
       "      <td>5.0</td>\n",
       "      <td>166998</td>\n",
       "      <td>18528.0</td>\n",
       "      <td>37.459288</td>\n",
       "    </tr>\n",
       "    <tr>\n",
       "      <th>4</th>\n",
       "      <td>440445</td>\n",
       "      <td>3</td>\n",
       "      <td>4475.0</td>\n",
       "      <td>5.0</td>\n",
       "      <td>53504</td>\n",
       "      <td>26870.0</td>\n",
       "      <td>104.806473</td>\n",
       "    </tr>\n",
       "    <tr>\n",
       "      <th>...</th>\n",
       "      <td>...</td>\n",
       "      <td>...</td>\n",
       "      <td>...</td>\n",
       "      <td>...</td>\n",
       "      <td>...</td>\n",
       "      <td>...</td>\n",
       "      <td>...</td>\n",
       "    </tr>\n",
       "    <tr>\n",
       "      <th>141443</th>\n",
       "      <td>47187</td>\n",
       "      <td>4</td>\n",
       "      <td>4681.0</td>\n",
       "      <td>4.0</td>\n",
       "      <td>152060</td>\n",
       "      <td>2469.0</td>\n",
       "      <td>55.060828</td>\n",
       "    </tr>\n",
       "    <tr>\n",
       "      <th>141444</th>\n",
       "      <td>329126</td>\n",
       "      <td>4</td>\n",
       "      <td>5119.0</td>\n",
       "      <td>3.0</td>\n",
       "      <td>89235</td>\n",
       "      <td>18998.0</td>\n",
       "      <td>92.423495</td>\n",
       "    </tr>\n",
       "    <tr>\n",
       "      <th>141445</th>\n",
       "      <td>282334</td>\n",
       "      <td>6</td>\n",
       "      <td>435.0</td>\n",
       "      <td>5.0</td>\n",
       "      <td>119788</td>\n",
       "      <td>26870.0</td>\n",
       "      <td>58.403486</td>\n",
       "    </tr>\n",
       "    <tr>\n",
       "      <th>141446</th>\n",
       "      <td>386629</td>\n",
       "      <td>5</td>\n",
       "      <td>176.0</td>\n",
       "      <td>3.0</td>\n",
       "      <td>86824</td>\n",
       "      <td>10193.0</td>\n",
       "      <td>18.896615</td>\n",
       "    </tr>\n",
       "    <tr>\n",
       "      <th>141447</th>\n",
       "      <td>107271</td>\n",
       "      <td>0</td>\n",
       "      <td>648.0</td>\n",
       "      <td>2.0</td>\n",
       "      <td>102240</td>\n",
       "      <td>12785.0</td>\n",
       "      <td>29.382387</td>\n",
       "    </tr>\n",
       "  </tbody>\n",
       "</table>\n",
       "<p>141448 rows × 7 columns</p>\n",
       "</div>"
      ],
      "text/plain": [
       "            ID  Tag  Reputation  Answers  Username    Views     Upvotes\n",
       "0       366953    0      5119.0      3.0     50652  26870.0  109.874080\n",
       "1        71864    1      5119.0      5.0     37685   2730.0   63.468314\n",
       "2       141692    3       927.0      1.0    135293  21167.0   46.994594\n",
       "3       316833    3        21.0      5.0    166998  18528.0   37.459288\n",
       "4       440445    3      4475.0      5.0     53504  26870.0  104.806473\n",
       "...        ...  ...         ...      ...       ...      ...         ...\n",
       "141443   47187    4      4681.0      4.0    152060   2469.0   55.060828\n",
       "141444  329126    4      5119.0      3.0     89235  18998.0   92.423495\n",
       "141445  282334    6       435.0      5.0    119788  26870.0   58.403486\n",
       "141446  386629    5       176.0      3.0     86824  10193.0   18.896615\n",
       "141447  107271    0       648.0      2.0    102240  12785.0   29.382387\n",
       "\n",
       "[141448 rows x 7 columns]"
      ]
     },
     "execution_count": 74,
     "metadata": {},
     "output_type": "execute_result"
    }
   ],
   "source": [
    "df_main"
   ]
  },
  {
   "cell_type": "code",
   "execution_count": 75,
   "metadata": {},
   "outputs": [
    {
     "data": {
      "text/html": [
       "<div>\n",
       "<style scoped>\n",
       "    .dataframe tbody tr th:only-of-type {\n",
       "        vertical-align: middle;\n",
       "    }\n",
       "\n",
       "    .dataframe tbody tr th {\n",
       "        vertical-align: top;\n",
       "    }\n",
       "\n",
       "    .dataframe thead th {\n",
       "        text-align: right;\n",
       "    }\n",
       "</style>\n",
       "<table border=\"1\" class=\"dataframe\">\n",
       "  <thead>\n",
       "    <tr style=\"text-align: right;\">\n",
       "      <th></th>\n",
       "      <th>ID</th>\n",
       "      <th>Upvotes</th>\n",
       "    </tr>\n",
       "  </thead>\n",
       "  <tbody>\n",
       "    <tr>\n",
       "      <th>0</th>\n",
       "      <td>366953.0</td>\n",
       "      <td>109.0</td>\n",
       "    </tr>\n",
       "    <tr>\n",
       "      <th>1</th>\n",
       "      <td>71864.0</td>\n",
       "      <td>63.0</td>\n",
       "    </tr>\n",
       "    <tr>\n",
       "      <th>2</th>\n",
       "      <td>141692.0</td>\n",
       "      <td>46.0</td>\n",
       "    </tr>\n",
       "    <tr>\n",
       "      <th>3</th>\n",
       "      <td>316833.0</td>\n",
       "      <td>37.0</td>\n",
       "    </tr>\n",
       "    <tr>\n",
       "      <th>4</th>\n",
       "      <td>440445.0</td>\n",
       "      <td>104.0</td>\n",
       "    </tr>\n",
       "    <tr>\n",
       "      <th>...</th>\n",
       "      <td>...</td>\n",
       "      <td>...</td>\n",
       "    </tr>\n",
       "    <tr>\n",
       "      <th>141443</th>\n",
       "      <td>47187.0</td>\n",
       "      <td>55.0</td>\n",
       "    </tr>\n",
       "    <tr>\n",
       "      <th>141444</th>\n",
       "      <td>329126.0</td>\n",
       "      <td>92.0</td>\n",
       "    </tr>\n",
       "    <tr>\n",
       "      <th>141445</th>\n",
       "      <td>282334.0</td>\n",
       "      <td>58.0</td>\n",
       "    </tr>\n",
       "    <tr>\n",
       "      <th>141446</th>\n",
       "      <td>386629.0</td>\n",
       "      <td>18.0</td>\n",
       "    </tr>\n",
       "    <tr>\n",
       "      <th>141447</th>\n",
       "      <td>107271.0</td>\n",
       "      <td>29.0</td>\n",
       "    </tr>\n",
       "  </tbody>\n",
       "</table>\n",
       "<p>141448 rows × 2 columns</p>\n",
       "</div>"
      ],
      "text/plain": [
       "              ID  Upvotes\n",
       "0       366953.0    109.0\n",
       "1        71864.0     63.0\n",
       "2       141692.0     46.0\n",
       "3       316833.0     37.0\n",
       "4       440445.0    104.0\n",
       "...          ...      ...\n",
       "141443   47187.0     55.0\n",
       "141444  329126.0     92.0\n",
       "141445  282334.0     58.0\n",
       "141446  386629.0     18.0\n",
       "141447  107271.0     29.0\n",
       "\n",
       "[141448 rows x 2 columns]"
      ]
     },
     "execution_count": 75,
     "metadata": {},
     "output_type": "execute_result"
    }
   ],
   "source": [
    "sample = df_main[[\"ID\",\"Upvotes\"]]\n",
    "sample = sample[[\"ID\",\"Upvotes\"]].apply(np.floor)\n",
    "sample"
   ]
  },
  {
   "cell_type": "code",
   "execution_count": 76,
   "metadata": {},
   "outputs": [],
   "source": [
    "asc = sample.sort_values(by=['ID'], ascending=True)"
   ]
  },
  {
   "cell_type": "code",
   "execution_count": 77,
   "metadata": {},
   "outputs": [],
   "source": [
    "asc.to_csv(\"sample_output.csv\", index=False)"
   ]
  },
  {
   "cell_type": "code",
   "execution_count": null,
   "metadata": {},
   "outputs": [],
   "source": []
  }
 ],
 "metadata": {
  "interpreter": {
   "hash": "447b36108fd6753a1c09ea0b5e3f64512bee57754dab52feb39d9294b79bdf32"
  },
  "kernelspec": {
   "display_name": "Python 3.7.4 ('base')",
   "language": "python",
   "name": "python3"
  },
  "language_info": {
   "codemirror_mode": {
    "name": "ipython",
    "version": 3
   },
   "file_extension": ".py",
   "mimetype": "text/x-python",
   "name": "python",
   "nbconvert_exporter": "python",
   "pygments_lexer": "ipython3",
   "version": "3.7.4"
  },
  "orig_nbformat": 4
 },
 "nbformat": 4,
 "nbformat_minor": 2
}
