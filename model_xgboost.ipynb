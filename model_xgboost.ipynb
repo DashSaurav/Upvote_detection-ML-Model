{
 "cells": [
  {
   "cell_type": "code",
   "execution_count": 1,
   "metadata": {},
   "outputs": [
    {
     "data": {
      "text/html": [
       "<div>\n",
       "<style scoped>\n",
       "    .dataframe tbody tr th:only-of-type {\n",
       "        vertical-align: middle;\n",
       "    }\n",
       "\n",
       "    .dataframe tbody tr th {\n",
       "        vertical-align: top;\n",
       "    }\n",
       "\n",
       "    .dataframe thead th {\n",
       "        text-align: right;\n",
       "    }\n",
       "</style>\n",
       "<table border=\"1\" class=\"dataframe\">\n",
       "  <thead>\n",
       "    <tr style=\"text-align: right;\">\n",
       "      <th></th>\n",
       "      <th>ID</th>\n",
       "      <th>Tag</th>\n",
       "      <th>Reputation</th>\n",
       "      <th>Answers</th>\n",
       "      <th>Username</th>\n",
       "      <th>Views</th>\n",
       "      <th>Upvotes</th>\n",
       "    </tr>\n",
       "  </thead>\n",
       "  <tbody>\n",
       "    <tr>\n",
       "      <th>0</th>\n",
       "      <td>52664</td>\n",
       "      <td>a</td>\n",
       "      <td>3942.0</td>\n",
       "      <td>2.0</td>\n",
       "      <td>155623</td>\n",
       "      <td>7855.0</td>\n",
       "      <td>42.0</td>\n",
       "    </tr>\n",
       "    <tr>\n",
       "      <th>1</th>\n",
       "      <td>327662</td>\n",
       "      <td>a</td>\n",
       "      <td>26046.0</td>\n",
       "      <td>12.0</td>\n",
       "      <td>21781</td>\n",
       "      <td>55801.0</td>\n",
       "      <td>1175.0</td>\n",
       "    </tr>\n",
       "    <tr>\n",
       "      <th>2</th>\n",
       "      <td>468453</td>\n",
       "      <td>c</td>\n",
       "      <td>1358.0</td>\n",
       "      <td>4.0</td>\n",
       "      <td>56177</td>\n",
       "      <td>8067.0</td>\n",
       "      <td>60.0</td>\n",
       "    </tr>\n",
       "    <tr>\n",
       "      <th>3</th>\n",
       "      <td>96996</td>\n",
       "      <td>a</td>\n",
       "      <td>264.0</td>\n",
       "      <td>3.0</td>\n",
       "      <td>168793</td>\n",
       "      <td>27064.0</td>\n",
       "      <td>9.0</td>\n",
       "    </tr>\n",
       "    <tr>\n",
       "      <th>4</th>\n",
       "      <td>131465</td>\n",
       "      <td>c</td>\n",
       "      <td>4271.0</td>\n",
       "      <td>4.0</td>\n",
       "      <td>112223</td>\n",
       "      <td>13986.0</td>\n",
       "      <td>83.0</td>\n",
       "    </tr>\n",
       "  </tbody>\n",
       "</table>\n",
       "</div>"
      ],
      "text/plain": [
       "       ID Tag  Reputation  Answers  Username    Views  Upvotes\n",
       "0   52664   a      3942.0      2.0    155623   7855.0     42.0\n",
       "1  327662   a     26046.0     12.0     21781  55801.0   1175.0\n",
       "2  468453   c      1358.0      4.0     56177   8067.0     60.0\n",
       "3   96996   a       264.0      3.0    168793  27064.0      9.0\n",
       "4  131465   c      4271.0      4.0    112223  13986.0     83.0"
      ]
     },
     "execution_count": 1,
     "metadata": {},
     "output_type": "execute_result"
    }
   ],
   "source": [
    "import pandas as pd\n",
    "import numpy as np\n",
    "df = pd.read_csv(\"upvote_train.csv\")\n",
    "df.head(5)"
   ]
  },
  {
   "cell_type": "code",
   "execution_count": 2,
   "metadata": {},
   "outputs": [],
   "source": [
    "from sklearn.preprocessing import LabelEncoder\n",
    "le = LabelEncoder()\n",
    "df.Tag = le.fit_transform(df.Tag.astype(str))"
   ]
  },
  {
   "cell_type": "code",
   "execution_count": 4,
   "metadata": {},
   "outputs": [
    {
     "data": {
      "text/plain": [
       "ID            -0.000298\n",
       "Tag            0.337230\n",
       "Reputation    11.230027\n",
       "Answers        3.380169\n",
       "Username       0.142088\n",
       "Views         14.370704\n",
       "Upvotes       74.249689\n",
       "dtype: float64"
      ]
     },
     "execution_count": 4,
     "metadata": {},
     "output_type": "execute_result"
    }
   ],
   "source": [
    "df.skew()"
   ]
  },
  {
   "cell_type": "code",
   "execution_count": 5,
   "metadata": {},
   "outputs": [],
   "source": [
    "upper_Reputation = df['Reputation'].mean() + 1.5*df['Reputation'].std()\n",
    "lower_Reputation = df['Reputation'].mean() - 1.5*df['Reputation'].std()\n",
    "df.loc[df['Reputation']> 5118.0,'Reputation'] = 5119.0\n",
    "\n",
    "upper_views = df['Views'].mean() + 1.5*df['Views'].std()\n",
    "lower_views = df['Views'].mean() - 1.5*df['Views'].std()\n",
    "df.loc[df['Views']> 26870.0,'Views'] = 26870.0\n",
    "\n",
    "upper_answers = df['Answers'].mean() + 1.5*df['Answers'].std()\n",
    "lower_answers = df['Answers'].mean() - 1.5*df['Answers'].std()\n",
    "df.loc[df['Answers']> 5.0,'Answers'] = 5.0\n",
    "\n",
    "upper_upvotes = df['Upvotes'].mean() + 1.5*df['Upvotes'].std()\n",
    "lower_upvotes = df['Upvotes'].mean() - 1.5*df['Upvotes'].std()\n",
    "df.loc[df['Upvotes']> 107.0,'Upvotes'] = 107.0"
   ]
  },
  {
   "cell_type": "code",
   "execution_count": 6,
   "metadata": {},
   "outputs": [
    {
     "data": {
      "text/plain": [
       "ID           -0.000298\n",
       "Tag           0.337230\n",
       "Reputation    0.498064\n",
       "Answers      -0.001231\n",
       "Username      0.142088\n",
       "Views         0.357091\n",
       "Upvotes       0.500881\n",
       "dtype: float64"
      ]
     },
     "execution_count": 6,
     "metadata": {},
     "output_type": "execute_result"
    }
   ],
   "source": [
    "df.skew()"
   ]
  },
  {
   "cell_type": "code",
   "execution_count": 7,
   "metadata": {},
   "outputs": [],
   "source": [
    "x = df.iloc[:,1:6]\n",
    "y = df.iloc[:,-1]"
   ]
  },
  {
   "cell_type": "code",
   "execution_count": 8,
   "metadata": {},
   "outputs": [
    {
     "data": {
      "text/plain": [
       "XGBRegressor(base_score=0.5, booster='gbtree', colsample_bylevel=1,\n",
       "             colsample_bynode=1, colsample_bytree=1, enable_categorical=False,\n",
       "             gamma=0, gpu_id=-1, importance_type=None,\n",
       "             interaction_constraints='', learning_rate=0.300000012,\n",
       "             max_delta_step=0, max_depth=6, min_child_weight=1, missing=nan,\n",
       "             monotone_constraints='()', n_estimators=100, n_jobs=8,\n",
       "             num_parallel_tree=1, predictor='auto', random_state=0, reg_alpha=0,\n",
       "             reg_lambda=1, scale_pos_weight=1, subsample=1, tree_method='exact',\n",
       "             validate_parameters=1, verbosity=None)"
      ]
     },
     "execution_count": 8,
     "metadata": {},
     "output_type": "execute_result"
    }
   ],
   "source": [
    "from xgboost import XGBRegressor\n",
    "xgbr = XGBRegressor()\n",
    "xgbr.fit(x,y)"
   ]
  },
  {
   "cell_type": "code",
   "execution_count": 9,
   "metadata": {},
   "outputs": [],
   "source": [
    "xgb_pred = xgbr.predict(x)"
   ]
  },
  {
   "cell_type": "code",
   "execution_count": 15,
   "metadata": {},
   "outputs": [],
   "source": [
    "df[\"Predections\"] = xgb_pred"
   ]
  },
  {
   "cell_type": "code",
   "execution_count": 10,
   "metadata": {},
   "outputs": [
    {
     "data": {
      "text/plain": [
       "0.7789310535927079"
      ]
     },
     "execution_count": 10,
     "metadata": {},
     "output_type": "execute_result"
    }
   ],
   "source": [
    "r2 = xgbr.score(x,y)\n",
    "r2"
   ]
  },
  {
   "cell_type": "code",
   "execution_count": 11,
   "metadata": {},
   "outputs": [
    {
     "data": {
      "text/plain": [
       "0.7789277044590236"
      ]
     },
     "execution_count": 11,
     "metadata": {},
     "output_type": "execute_result"
    }
   ],
   "source": [
    "adj_r2 = 1 - (1-xgbr.score(x,y))*(len(y)-1)/(len(y)-x.shape[1]-1)\n",
    "adj_r2"
   ]
  },
  {
   "cell_type": "code",
   "execution_count": 17,
   "metadata": {},
   "outputs": [
    {
     "data": {
      "text/plain": [
       "388.7276701358428"
      ]
     },
     "execution_count": 17,
     "metadata": {},
     "output_type": "execute_result"
    }
   ],
   "source": [
    "from sklearn import metrics\n",
    "MSE_ln = metrics.mean_squared_error(y,xgb_pred)\n",
    "MSE_ln"
   ]
  },
  {
   "cell_type": "code",
   "execution_count": 18,
   "metadata": {},
   "outputs": [],
   "source": [
    "error = y - xgb_pred\n",
    "error_ln = np.abs(error)"
   ]
  },
  {
   "cell_type": "code",
   "execution_count": 19,
   "metadata": {},
   "outputs": [
    {
     "data": {
      "text/plain": [
       "51.0106577104562"
      ]
     },
     "execution_count": 19,
     "metadata": {},
     "output_type": "execute_result"
    }
   ],
   "source": [
    "MAPE_ln = np.mean(error_ln/xgb_pred)*100\n",
    "MAPE_ln"
   ]
  },
  {
   "cell_type": "code",
   "execution_count": 20,
   "metadata": {},
   "outputs": [
    {
     "data": {
      "text/plain": [
       "48.9893422895438"
      ]
     },
     "execution_count": 20,
     "metadata": {},
     "output_type": "execute_result"
    }
   ],
   "source": [
    "acc = 100 - MAPE_ln\n",
    "acc"
   ]
  },
  {
   "cell_type": "code",
   "execution_count": 21,
   "metadata": {},
   "outputs": [
    {
     "data": {
      "text/html": [
       "<div>\n",
       "<style scoped>\n",
       "    .dataframe tbody tr th:only-of-type {\n",
       "        vertical-align: middle;\n",
       "    }\n",
       "\n",
       "    .dataframe tbody tr th {\n",
       "        vertical-align: top;\n",
       "    }\n",
       "\n",
       "    .dataframe thead th {\n",
       "        text-align: right;\n",
       "    }\n",
       "</style>\n",
       "<table border=\"1\" class=\"dataframe\">\n",
       "  <thead>\n",
       "    <tr style=\"text-align: right;\">\n",
       "      <th></th>\n",
       "      <th>ID</th>\n",
       "      <th>Tag</th>\n",
       "      <th>Reputation</th>\n",
       "      <th>Answers</th>\n",
       "      <th>Username</th>\n",
       "      <th>Views</th>\n",
       "    </tr>\n",
       "  </thead>\n",
       "  <tbody>\n",
       "    <tr>\n",
       "      <th>0</th>\n",
       "      <td>366953</td>\n",
       "      <td>a</td>\n",
       "      <td>5645.0</td>\n",
       "      <td>3.0</td>\n",
       "      <td>50652</td>\n",
       "      <td>33200.0</td>\n",
       "    </tr>\n",
       "    <tr>\n",
       "      <th>1</th>\n",
       "      <td>71864</td>\n",
       "      <td>c</td>\n",
       "      <td>24511.0</td>\n",
       "      <td>6.0</td>\n",
       "      <td>37685</td>\n",
       "      <td>2730.0</td>\n",
       "    </tr>\n",
       "    <tr>\n",
       "      <th>2</th>\n",
       "      <td>141692</td>\n",
       "      <td>i</td>\n",
       "      <td>927.0</td>\n",
       "      <td>1.0</td>\n",
       "      <td>135293</td>\n",
       "      <td>21167.0</td>\n",
       "    </tr>\n",
       "    <tr>\n",
       "      <th>3</th>\n",
       "      <td>316833</td>\n",
       "      <td>i</td>\n",
       "      <td>21.0</td>\n",
       "      <td>6.0</td>\n",
       "      <td>166998</td>\n",
       "      <td>18528.0</td>\n",
       "    </tr>\n",
       "    <tr>\n",
       "      <th>4</th>\n",
       "      <td>440445</td>\n",
       "      <td>i</td>\n",
       "      <td>4475.0</td>\n",
       "      <td>10.0</td>\n",
       "      <td>53504</td>\n",
       "      <td>57240.0</td>\n",
       "    </tr>\n",
       "    <tr>\n",
       "      <th>...</th>\n",
       "      <td>...</td>\n",
       "      <td>...</td>\n",
       "      <td>...</td>\n",
       "      <td>...</td>\n",
       "      <td>...</td>\n",
       "      <td>...</td>\n",
       "    </tr>\n",
       "    <tr>\n",
       "      <th>141443</th>\n",
       "      <td>47187</td>\n",
       "      <td>j</td>\n",
       "      <td>4681.0</td>\n",
       "      <td>4.0</td>\n",
       "      <td>152060</td>\n",
       "      <td>2469.0</td>\n",
       "    </tr>\n",
       "    <tr>\n",
       "      <th>141444</th>\n",
       "      <td>329126</td>\n",
       "      <td>j</td>\n",
       "      <td>7782.0</td>\n",
       "      <td>3.0</td>\n",
       "      <td>89235</td>\n",
       "      <td>18998.0</td>\n",
       "    </tr>\n",
       "    <tr>\n",
       "      <th>141445</th>\n",
       "      <td>282334</td>\n",
       "      <td>p</td>\n",
       "      <td>435.0</td>\n",
       "      <td>5.0</td>\n",
       "      <td>119788</td>\n",
       "      <td>57048.0</td>\n",
       "    </tr>\n",
       "    <tr>\n",
       "      <th>141446</th>\n",
       "      <td>386629</td>\n",
       "      <td>o</td>\n",
       "      <td>176.0</td>\n",
       "      <td>3.0</td>\n",
       "      <td>86824</td>\n",
       "      <td>10193.0</td>\n",
       "    </tr>\n",
       "    <tr>\n",
       "      <th>141447</th>\n",
       "      <td>107271</td>\n",
       "      <td>a</td>\n",
       "      <td>648.0</td>\n",
       "      <td>2.0</td>\n",
       "      <td>102240</td>\n",
       "      <td>12785.0</td>\n",
       "    </tr>\n",
       "  </tbody>\n",
       "</table>\n",
       "<p>141448 rows × 6 columns</p>\n",
       "</div>"
      ],
      "text/plain": [
       "            ID Tag  Reputation  Answers  Username    Views\n",
       "0       366953   a      5645.0      3.0     50652  33200.0\n",
       "1        71864   c     24511.0      6.0     37685   2730.0\n",
       "2       141692   i       927.0      1.0    135293  21167.0\n",
       "3       316833   i        21.0      6.0    166998  18528.0\n",
       "4       440445   i      4475.0     10.0     53504  57240.0\n",
       "...        ...  ..         ...      ...       ...      ...\n",
       "141443   47187   j      4681.0      4.0    152060   2469.0\n",
       "141444  329126   j      7782.0      3.0     89235  18998.0\n",
       "141445  282334   p       435.0      5.0    119788  57048.0\n",
       "141446  386629   o       176.0      3.0     86824  10193.0\n",
       "141447  107271   a       648.0      2.0    102240  12785.0\n",
       "\n",
       "[141448 rows x 6 columns]"
      ]
     },
     "execution_count": 21,
     "metadata": {},
     "output_type": "execute_result"
    }
   ],
   "source": [
    "df_main = pd.read_csv(\"upvote_test.csv\")\n",
    "df_main"
   ]
  },
  {
   "cell_type": "code",
   "execution_count": 22,
   "metadata": {},
   "outputs": [],
   "source": [
    "from sklearn.preprocessing import LabelEncoder\n",
    "le = LabelEncoder()\n",
    "df_main.Tag = le.fit_transform(df_main.Tag.astype(str))"
   ]
  },
  {
   "cell_type": "code",
   "execution_count": 23,
   "metadata": {},
   "outputs": [
    {
     "data": {
      "text/plain": [
       "ID             0.000693\n",
       "Tag            0.332509\n",
       "Reputation    11.318536\n",
       "Answers        3.398091\n",
       "Username       0.147448\n",
       "Views         13.532848\n",
       "dtype: float64"
      ]
     },
     "execution_count": 23,
     "metadata": {},
     "output_type": "execute_result"
    }
   ],
   "source": [
    "df_main.skew()"
   ]
  },
  {
   "cell_type": "code",
   "execution_count": 24,
   "metadata": {},
   "outputs": [
    {
     "data": {
      "text/html": [
       "<div>\n",
       "<style scoped>\n",
       "    .dataframe tbody tr th:only-of-type {\n",
       "        vertical-align: middle;\n",
       "    }\n",
       "\n",
       "    .dataframe tbody tr th {\n",
       "        vertical-align: top;\n",
       "    }\n",
       "\n",
       "    .dataframe thead th {\n",
       "        text-align: right;\n",
       "    }\n",
       "</style>\n",
       "<table border=\"1\" class=\"dataframe\">\n",
       "  <thead>\n",
       "    <tr style=\"text-align: right;\">\n",
       "      <th></th>\n",
       "      <th>ID</th>\n",
       "      <th>Tag</th>\n",
       "      <th>Reputation</th>\n",
       "      <th>Answers</th>\n",
       "      <th>Username</th>\n",
       "      <th>Views</th>\n",
       "    </tr>\n",
       "  </thead>\n",
       "  <tbody>\n",
       "    <tr>\n",
       "      <th>count</th>\n",
       "      <td>141448.000000</td>\n",
       "      <td>141448.000000</td>\n",
       "      <td>1.414480e+05</td>\n",
       "      <td>141448.000000</td>\n",
       "      <td>141448.000000</td>\n",
       "      <td>1.414480e+05</td>\n",
       "    </tr>\n",
       "    <tr>\n",
       "      <th>mean</th>\n",
       "      <td>235743.073497</td>\n",
       "      <td>3.552542</td>\n",
       "      <td>7.920927e+03</td>\n",
       "      <td>3.914873</td>\n",
       "      <td>81348.231117</td>\n",
       "      <td>2.984633e+04</td>\n",
       "    </tr>\n",
       "    <tr>\n",
       "      <th>std</th>\n",
       "      <td>136269.867118</td>\n",
       "      <td>2.494553</td>\n",
       "      <td>2.791072e+04</td>\n",
       "      <td>3.577460</td>\n",
       "      <td>49046.098215</td>\n",
       "      <td>8.034374e+04</td>\n",
       "    </tr>\n",
       "    <tr>\n",
       "      <th>min</th>\n",
       "      <td>7.000000</td>\n",
       "      <td>0.000000</td>\n",
       "      <td>0.000000e+00</td>\n",
       "      <td>0.000000</td>\n",
       "      <td>4.000000</td>\n",
       "      <td>9.000000e+00</td>\n",
       "    </tr>\n",
       "    <tr>\n",
       "      <th>25%</th>\n",
       "      <td>117797.000000</td>\n",
       "      <td>1.000000</td>\n",
       "      <td>2.860000e+02</td>\n",
       "      <td>2.000000</td>\n",
       "      <td>40222.750000</td>\n",
       "      <td>2.608000e+03</td>\n",
       "    </tr>\n",
       "    <tr>\n",
       "      <th>50%</th>\n",
       "      <td>235830.000000</td>\n",
       "      <td>4.000000</td>\n",
       "      <td>1.245000e+03</td>\n",
       "      <td>3.000000</td>\n",
       "      <td>78795.500000</td>\n",
       "      <td>8.977000e+03</td>\n",
       "    </tr>\n",
       "    <tr>\n",
       "      <th>75%</th>\n",
       "      <td>353616.000000</td>\n",
       "      <td>6.000000</td>\n",
       "      <td>5.123000e+03</td>\n",
       "      <td>5.000000</td>\n",
       "      <td>122149.000000</td>\n",
       "      <td>2.698925e+04</td>\n",
       "    </tr>\n",
       "    <tr>\n",
       "      <th>max</th>\n",
       "      <td>471488.000000</td>\n",
       "      <td>9.000000</td>\n",
       "      <td>1.042428e+06</td>\n",
       "      <td>73.000000</td>\n",
       "      <td>175737.000000</td>\n",
       "      <td>5.004669e+06</td>\n",
       "    </tr>\n",
       "  </tbody>\n",
       "</table>\n",
       "</div>"
      ],
      "text/plain": [
       "                  ID            Tag    Reputation        Answers  \\\n",
       "count  141448.000000  141448.000000  1.414480e+05  141448.000000   \n",
       "mean   235743.073497       3.552542  7.920927e+03       3.914873   \n",
       "std    136269.867118       2.494553  2.791072e+04       3.577460   \n",
       "min         7.000000       0.000000  0.000000e+00       0.000000   \n",
       "25%    117797.000000       1.000000  2.860000e+02       2.000000   \n",
       "50%    235830.000000       4.000000  1.245000e+03       3.000000   \n",
       "75%    353616.000000       6.000000  5.123000e+03       5.000000   \n",
       "max    471488.000000       9.000000  1.042428e+06      73.000000   \n",
       "\n",
       "            Username         Views  \n",
       "count  141448.000000  1.414480e+05  \n",
       "mean    81348.231117  2.984633e+04  \n",
       "std     49046.098215  8.034374e+04  \n",
       "min         4.000000  9.000000e+00  \n",
       "25%     40222.750000  2.608000e+03  \n",
       "50%     78795.500000  8.977000e+03  \n",
       "75%    122149.000000  2.698925e+04  \n",
       "max    175737.000000  5.004669e+06  "
      ]
     },
     "execution_count": 24,
     "metadata": {},
     "output_type": "execute_result"
    }
   ],
   "source": [
    "df_main.describe()"
   ]
  },
  {
   "cell_type": "code",
   "execution_count": 25,
   "metadata": {},
   "outputs": [],
   "source": [
    "upper_Reputation = df_main['Reputation'].mean() + 1.5*df_main['Reputation'].std()\n",
    "lower_Reputation = df_main['Reputation'].mean() - 1.5*df_main['Reputation'].std()\n",
    "df_main.loc[df_main['Reputation']> 5123.0,'Reputation'] = 5123.0\n",
    "\n",
    "upper = df_main['Views'].mean() + 1.5*df_main['Views'].std()\n",
    "lower = df_main['Views'].mean() - 1.5*df_main['Views'].std()\n",
    "df_main.loc[df_main['Views']> 26989.0,'Views'] = 26989.0\n",
    "\n",
    "upper = df_main['Answers'].mean() + 1.5*df_main['Answers'].std()\n",
    "lower = df_main['Answers'].mean() - 1.5*df_main['Answers'].std()\n",
    "df_main.loc[df_main['Answers']> 5.0,'Answers'] = 5.0"
   ]
  },
  {
   "cell_type": "code",
   "execution_count": 26,
   "metadata": {},
   "outputs": [
    {
     "data": {
      "text/html": [
       "<div>\n",
       "<style scoped>\n",
       "    .dataframe tbody tr th:only-of-type {\n",
       "        vertical-align: middle;\n",
       "    }\n",
       "\n",
       "    .dataframe tbody tr th {\n",
       "        vertical-align: top;\n",
       "    }\n",
       "\n",
       "    .dataframe thead th {\n",
       "        text-align: right;\n",
       "    }\n",
       "</style>\n",
       "<table border=\"1\" class=\"dataframe\">\n",
       "  <thead>\n",
       "    <tr style=\"text-align: right;\">\n",
       "      <th></th>\n",
       "      <th>Tag</th>\n",
       "      <th>Reputation</th>\n",
       "      <th>Answers</th>\n",
       "      <th>Username</th>\n",
       "      <th>Views</th>\n",
       "    </tr>\n",
       "  </thead>\n",
       "  <tbody>\n",
       "    <tr>\n",
       "      <th>0</th>\n",
       "      <td>0</td>\n",
       "      <td>5123.0</td>\n",
       "      <td>3.0</td>\n",
       "      <td>50652</td>\n",
       "      <td>26989.0</td>\n",
       "    </tr>\n",
       "    <tr>\n",
       "      <th>1</th>\n",
       "      <td>1</td>\n",
       "      <td>5123.0</td>\n",
       "      <td>5.0</td>\n",
       "      <td>37685</td>\n",
       "      <td>2730.0</td>\n",
       "    </tr>\n",
       "    <tr>\n",
       "      <th>2</th>\n",
       "      <td>3</td>\n",
       "      <td>927.0</td>\n",
       "      <td>1.0</td>\n",
       "      <td>135293</td>\n",
       "      <td>21167.0</td>\n",
       "    </tr>\n",
       "    <tr>\n",
       "      <th>3</th>\n",
       "      <td>3</td>\n",
       "      <td>21.0</td>\n",
       "      <td>5.0</td>\n",
       "      <td>166998</td>\n",
       "      <td>18528.0</td>\n",
       "    </tr>\n",
       "    <tr>\n",
       "      <th>4</th>\n",
       "      <td>3</td>\n",
       "      <td>4475.0</td>\n",
       "      <td>5.0</td>\n",
       "      <td>53504</td>\n",
       "      <td>26989.0</td>\n",
       "    </tr>\n",
       "    <tr>\n",
       "      <th>...</th>\n",
       "      <td>...</td>\n",
       "      <td>...</td>\n",
       "      <td>...</td>\n",
       "      <td>...</td>\n",
       "      <td>...</td>\n",
       "    </tr>\n",
       "    <tr>\n",
       "      <th>141443</th>\n",
       "      <td>4</td>\n",
       "      <td>4681.0</td>\n",
       "      <td>4.0</td>\n",
       "      <td>152060</td>\n",
       "      <td>2469.0</td>\n",
       "    </tr>\n",
       "    <tr>\n",
       "      <th>141444</th>\n",
       "      <td>4</td>\n",
       "      <td>5123.0</td>\n",
       "      <td>3.0</td>\n",
       "      <td>89235</td>\n",
       "      <td>18998.0</td>\n",
       "    </tr>\n",
       "    <tr>\n",
       "      <th>141445</th>\n",
       "      <td>6</td>\n",
       "      <td>435.0</td>\n",
       "      <td>5.0</td>\n",
       "      <td>119788</td>\n",
       "      <td>26989.0</td>\n",
       "    </tr>\n",
       "    <tr>\n",
       "      <th>141446</th>\n",
       "      <td>5</td>\n",
       "      <td>176.0</td>\n",
       "      <td>3.0</td>\n",
       "      <td>86824</td>\n",
       "      <td>10193.0</td>\n",
       "    </tr>\n",
       "    <tr>\n",
       "      <th>141447</th>\n",
       "      <td>0</td>\n",
       "      <td>648.0</td>\n",
       "      <td>2.0</td>\n",
       "      <td>102240</td>\n",
       "      <td>12785.0</td>\n",
       "    </tr>\n",
       "  </tbody>\n",
       "</table>\n",
       "<p>141448 rows × 5 columns</p>\n",
       "</div>"
      ],
      "text/plain": [
       "        Tag  Reputation  Answers  Username    Views\n",
       "0         0      5123.0      3.0     50652  26989.0\n",
       "1         1      5123.0      5.0     37685   2730.0\n",
       "2         3       927.0      1.0    135293  21167.0\n",
       "3         3        21.0      5.0    166998  18528.0\n",
       "4         3      4475.0      5.0     53504  26989.0\n",
       "...     ...         ...      ...       ...      ...\n",
       "141443    4      4681.0      4.0    152060   2469.0\n",
       "141444    4      5123.0      3.0     89235  18998.0\n",
       "141445    6       435.0      5.0    119788  26989.0\n",
       "141446    5       176.0      3.0     86824  10193.0\n",
       "141447    0       648.0      2.0    102240  12785.0\n",
       "\n",
       "[141448 rows x 5 columns]"
      ]
     },
     "execution_count": 26,
     "metadata": {},
     "output_type": "execute_result"
    }
   ],
   "source": [
    "x_ = df_main.iloc[:,1:6]\n",
    "x_"
   ]
  },
  {
   "cell_type": "code",
   "execution_count": 28,
   "metadata": {},
   "outputs": [
    {
     "data": {
      "text/plain": [
       "array([106.62639 ,  63.74353 ,  40.119846, ...,  58.68849 ,  17.077082,\n",
       "        26.31199 ], dtype=float32)"
      ]
     },
     "execution_count": 28,
     "metadata": {},
     "output_type": "execute_result"
    }
   ],
   "source": [
    "y_ = xgbr.predict(x_)\n",
    "y_"
   ]
  },
  {
   "cell_type": "code",
   "execution_count": 29,
   "metadata": {},
   "outputs": [
    {
     "data": {
      "text/html": [
       "<div>\n",
       "<style scoped>\n",
       "    .dataframe tbody tr th:only-of-type {\n",
       "        vertical-align: middle;\n",
       "    }\n",
       "\n",
       "    .dataframe tbody tr th {\n",
       "        vertical-align: top;\n",
       "    }\n",
       "\n",
       "    .dataframe thead th {\n",
       "        text-align: right;\n",
       "    }\n",
       "</style>\n",
       "<table border=\"1\" class=\"dataframe\">\n",
       "  <thead>\n",
       "    <tr style=\"text-align: right;\">\n",
       "      <th></th>\n",
       "      <th>ID</th>\n",
       "      <th>Tag</th>\n",
       "      <th>Reputation</th>\n",
       "      <th>Answers</th>\n",
       "      <th>Username</th>\n",
       "      <th>Views</th>\n",
       "      <th>Upvotes</th>\n",
       "    </tr>\n",
       "  </thead>\n",
       "  <tbody>\n",
       "    <tr>\n",
       "      <th>0</th>\n",
       "      <td>366953</td>\n",
       "      <td>0</td>\n",
       "      <td>5123.0</td>\n",
       "      <td>3.0</td>\n",
       "      <td>50652</td>\n",
       "      <td>26989.0</td>\n",
       "      <td>106.626389</td>\n",
       "    </tr>\n",
       "    <tr>\n",
       "      <th>1</th>\n",
       "      <td>71864</td>\n",
       "      <td>1</td>\n",
       "      <td>5123.0</td>\n",
       "      <td>5.0</td>\n",
       "      <td>37685</td>\n",
       "      <td>2730.0</td>\n",
       "      <td>63.743530</td>\n",
       "    </tr>\n",
       "    <tr>\n",
       "      <th>2</th>\n",
       "      <td>141692</td>\n",
       "      <td>3</td>\n",
       "      <td>927.0</td>\n",
       "      <td>1.0</td>\n",
       "      <td>135293</td>\n",
       "      <td>21167.0</td>\n",
       "      <td>40.119846</td>\n",
       "    </tr>\n",
       "    <tr>\n",
       "      <th>3</th>\n",
       "      <td>316833</td>\n",
       "      <td>3</td>\n",
       "      <td>21.0</td>\n",
       "      <td>5.0</td>\n",
       "      <td>166998</td>\n",
       "      <td>18528.0</td>\n",
       "      <td>12.128903</td>\n",
       "    </tr>\n",
       "    <tr>\n",
       "      <th>4</th>\n",
       "      <td>440445</td>\n",
       "      <td>3</td>\n",
       "      <td>4475.0</td>\n",
       "      <td>5.0</td>\n",
       "      <td>53504</td>\n",
       "      <td>26989.0</td>\n",
       "      <td>105.809608</td>\n",
       "    </tr>\n",
       "    <tr>\n",
       "      <th>...</th>\n",
       "      <td>...</td>\n",
       "      <td>...</td>\n",
       "      <td>...</td>\n",
       "      <td>...</td>\n",
       "      <td>...</td>\n",
       "      <td>...</td>\n",
       "      <td>...</td>\n",
       "    </tr>\n",
       "    <tr>\n",
       "      <th>141443</th>\n",
       "      <td>47187</td>\n",
       "      <td>4</td>\n",
       "      <td>4681.0</td>\n",
       "      <td>4.0</td>\n",
       "      <td>152060</td>\n",
       "      <td>2469.0</td>\n",
       "      <td>23.822334</td>\n",
       "    </tr>\n",
       "    <tr>\n",
       "      <th>141444</th>\n",
       "      <td>329126</td>\n",
       "      <td>4</td>\n",
       "      <td>5123.0</td>\n",
       "      <td>3.0</td>\n",
       "      <td>89235</td>\n",
       "      <td>18998.0</td>\n",
       "      <td>105.157318</td>\n",
       "    </tr>\n",
       "    <tr>\n",
       "      <th>141445</th>\n",
       "      <td>282334</td>\n",
       "      <td>6</td>\n",
       "      <td>435.0</td>\n",
       "      <td>5.0</td>\n",
       "      <td>119788</td>\n",
       "      <td>26989.0</td>\n",
       "      <td>58.688492</td>\n",
       "    </tr>\n",
       "    <tr>\n",
       "      <th>141446</th>\n",
       "      <td>386629</td>\n",
       "      <td>5</td>\n",
       "      <td>176.0</td>\n",
       "      <td>3.0</td>\n",
       "      <td>86824</td>\n",
       "      <td>10193.0</td>\n",
       "      <td>17.077082</td>\n",
       "    </tr>\n",
       "    <tr>\n",
       "      <th>141447</th>\n",
       "      <td>107271</td>\n",
       "      <td>0</td>\n",
       "      <td>648.0</td>\n",
       "      <td>2.0</td>\n",
       "      <td>102240</td>\n",
       "      <td>12785.0</td>\n",
       "      <td>26.311991</td>\n",
       "    </tr>\n",
       "  </tbody>\n",
       "</table>\n",
       "<p>141448 rows × 7 columns</p>\n",
       "</div>"
      ],
      "text/plain": [
       "            ID  Tag  Reputation  Answers  Username    Views     Upvotes\n",
       "0       366953    0      5123.0      3.0     50652  26989.0  106.626389\n",
       "1        71864    1      5123.0      5.0     37685   2730.0   63.743530\n",
       "2       141692    3       927.0      1.0    135293  21167.0   40.119846\n",
       "3       316833    3        21.0      5.0    166998  18528.0   12.128903\n",
       "4       440445    3      4475.0      5.0     53504  26989.0  105.809608\n",
       "...        ...  ...         ...      ...       ...      ...         ...\n",
       "141443   47187    4      4681.0      4.0    152060   2469.0   23.822334\n",
       "141444  329126    4      5123.0      3.0     89235  18998.0  105.157318\n",
       "141445  282334    6       435.0      5.0    119788  26989.0   58.688492\n",
       "141446  386629    5       176.0      3.0     86824  10193.0   17.077082\n",
       "141447  107271    0       648.0      2.0    102240  12785.0   26.311991\n",
       "\n",
       "[141448 rows x 7 columns]"
      ]
     },
     "execution_count": 29,
     "metadata": {},
     "output_type": "execute_result"
    }
   ],
   "source": [
    "df_main['Upvotes'] = abs(y_)\n",
    "df_main"
   ]
  },
  {
   "cell_type": "code",
   "execution_count": 30,
   "metadata": {},
   "outputs": [
    {
     "data": {
      "text/html": [
       "<div>\n",
       "<style scoped>\n",
       "    .dataframe tbody tr th:only-of-type {\n",
       "        vertical-align: middle;\n",
       "    }\n",
       "\n",
       "    .dataframe tbody tr th {\n",
       "        vertical-align: top;\n",
       "    }\n",
       "\n",
       "    .dataframe thead th {\n",
       "        text-align: right;\n",
       "    }\n",
       "</style>\n",
       "<table border=\"1\" class=\"dataframe\">\n",
       "  <thead>\n",
       "    <tr style=\"text-align: right;\">\n",
       "      <th></th>\n",
       "      <th>ID</th>\n",
       "      <th>Upvotes</th>\n",
       "    </tr>\n",
       "  </thead>\n",
       "  <tbody>\n",
       "    <tr>\n",
       "      <th>0</th>\n",
       "      <td>366953.0</td>\n",
       "      <td>106.0</td>\n",
       "    </tr>\n",
       "    <tr>\n",
       "      <th>1</th>\n",
       "      <td>71864.0</td>\n",
       "      <td>63.0</td>\n",
       "    </tr>\n",
       "    <tr>\n",
       "      <th>2</th>\n",
       "      <td>141692.0</td>\n",
       "      <td>40.0</td>\n",
       "    </tr>\n",
       "    <tr>\n",
       "      <th>3</th>\n",
       "      <td>316833.0</td>\n",
       "      <td>12.0</td>\n",
       "    </tr>\n",
       "    <tr>\n",
       "      <th>4</th>\n",
       "      <td>440445.0</td>\n",
       "      <td>105.0</td>\n",
       "    </tr>\n",
       "    <tr>\n",
       "      <th>...</th>\n",
       "      <td>...</td>\n",
       "      <td>...</td>\n",
       "    </tr>\n",
       "    <tr>\n",
       "      <th>141443</th>\n",
       "      <td>47187.0</td>\n",
       "      <td>23.0</td>\n",
       "    </tr>\n",
       "    <tr>\n",
       "      <th>141444</th>\n",
       "      <td>329126.0</td>\n",
       "      <td>105.0</td>\n",
       "    </tr>\n",
       "    <tr>\n",
       "      <th>141445</th>\n",
       "      <td>282334.0</td>\n",
       "      <td>58.0</td>\n",
       "    </tr>\n",
       "    <tr>\n",
       "      <th>141446</th>\n",
       "      <td>386629.0</td>\n",
       "      <td>17.0</td>\n",
       "    </tr>\n",
       "    <tr>\n",
       "      <th>141447</th>\n",
       "      <td>107271.0</td>\n",
       "      <td>26.0</td>\n",
       "    </tr>\n",
       "  </tbody>\n",
       "</table>\n",
       "<p>141448 rows × 2 columns</p>\n",
       "</div>"
      ],
      "text/plain": [
       "              ID  Upvotes\n",
       "0       366953.0    106.0\n",
       "1        71864.0     63.0\n",
       "2       141692.0     40.0\n",
       "3       316833.0     12.0\n",
       "4       440445.0    105.0\n",
       "...          ...      ...\n",
       "141443   47187.0     23.0\n",
       "141444  329126.0    105.0\n",
       "141445  282334.0     58.0\n",
       "141446  386629.0     17.0\n",
       "141447  107271.0     26.0\n",
       "\n",
       "[141448 rows x 2 columns]"
      ]
     },
     "execution_count": 30,
     "metadata": {},
     "output_type": "execute_result"
    }
   ],
   "source": [
    "sample = df_main[[\"ID\",\"Upvotes\"]]\n",
    "sample = sample[[\"ID\",\"Upvotes\"]].apply(np.floor)\n",
    "sample"
   ]
  },
  {
   "cell_type": "code",
   "execution_count": 31,
   "metadata": {},
   "outputs": [],
   "source": [
    "asc = sample.sort_values(by=['ID'], ascending=True)\n",
    "asc.to_csv(\"output_xgbr.csv\", index=False)"
   ]
  },
  {
   "cell_type": "code",
   "execution_count": null,
   "metadata": {},
   "outputs": [],
   "source": []
  }
 ],
 "metadata": {
  "interpreter": {
   "hash": "447b36108fd6753a1c09ea0b5e3f64512bee57754dab52feb39d9294b79bdf32"
  },
  "kernelspec": {
   "display_name": "Python 3.7.4 ('base')",
   "language": "python",
   "name": "python3"
  },
  "language_info": {
   "codemirror_mode": {
    "name": "ipython",
    "version": 3
   },
   "file_extension": ".py",
   "mimetype": "text/x-python",
   "name": "python",
   "nbconvert_exporter": "python",
   "pygments_lexer": "ipython3",
   "version": "3.7.4"
  },
  "orig_nbformat": 4
 },
 "nbformat": 4,
 "nbformat_minor": 2
}
